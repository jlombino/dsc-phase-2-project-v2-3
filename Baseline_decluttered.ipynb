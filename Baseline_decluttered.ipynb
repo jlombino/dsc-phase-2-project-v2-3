{
 "cells": [
  {
   "cell_type": "code",
   "execution_count": 31,
   "metadata": {},
   "outputs": [],
   "source": [
    "# Import necessary modules\n",
    "import pandas as pd\n",
    "from datetime import datetime as dt\n",
    "import statsmodels.api as sm\n",
    "from sklearn.model_selection import train_test_split, cross_validate\n",
    "from sklearn.linear_model import LinearRegression\n",
    "import statsmodels.api as sm\n",
    "import matplotlib.pyplot as plt\n",
    "import seaborn as sns\n",
    "import numpy as np\n",
    "\n",
    "%matplotlib inline"
   ]
  },
  {
   "cell_type": "code",
   "execution_count": 17,
   "metadata": {},
   "outputs": [],
   "source": [
    "# Homes contains data on home sales, zipcodes is for encoding cities later\n",
    "homes = pd.read_csv('data/kc_house_data.csv')\n",
    "zipcodes = pd.read_csv('data/zips.csv')\n",
    "\n",
    "# Columns suggested to drop by project description\n",
    "cols_to_drop = (['id','date','sqft_above','sqft_basement',\n",
    "                'lat','long','sqft_living15','sqft_lot15'])\n",
    "homes = homes.drop(cols_to_drop,axis=1)\n",
    "\n",
    "# Exchange the zipcode column for a city column based on zipcode\n",
    "homes = homes.merge(zipcodes,how='left',on='zipcode').drop('zipcode',axis=1)\n",
    "#homes.info()"
   ]
  },
  {
   "cell_type": "code",
   "execution_count": 18,
   "metadata": {},
   "outputs": [],
   "source": [
    "homes.loc[homes.bedrooms > 20,'bedrooms'] = 3"
   ]
  },
  {
   "cell_type": "code",
   "execution_count": 19,
   "metadata": {},
   "outputs": [],
   "source": [
    "waterfront_rule = {'NO':0,'YES':1}\n",
    "waterfronts = homes.waterfront.fillna('NO').map(waterfront_rule)\n",
    "homes.waterfront = waterfronts"
   ]
  },
  {
   "cell_type": "code",
   "execution_count": 20,
   "metadata": {},
   "outputs": [],
   "source": [
    "view_rule = {'NONE':0,'FAIR':1,'AVERAGE':2,'GOOD':3,'EXCELLENT':4}\n",
    "views = homes.view.fillna('NONE').map(view_rule)\n",
    "homes.view = views"
   ]
  },
  {
   "cell_type": "code",
   "execution_count": 21,
   "metadata": {},
   "outputs": [],
   "source": [
    "condition_rule = {'Poor':0,'Fair':1,'Average':2,'Good':3,'Very Good':4}\n",
    "conditions = homes.condition.map(condition_rule)\n",
    "homes.condition = conditions"
   ]
  },
  {
   "cell_type": "code",
   "execution_count": 22,
   "metadata": {},
   "outputs": [],
   "source": [
    "grades = homes.grade.apply(lambda x: int(x.split()[0]))\n",
    "homes.grade = grades"
   ]
  },
  {
   "cell_type": "code",
   "execution_count": 23,
   "metadata": {},
   "outputs": [],
   "source": [
    "homes.yr_renovated.fillna(0,inplace=True)\n",
    "def since_reno(home):\n",
    "    if home.yr_renovated < home.yr_built:\n",
    "        return dt.today().year - home.yr_built\n",
    "    else:\n",
    "        return dt.today().year - home.yr_renovated\n",
    "homes['since_reno'] = homes.apply(lambda x:since_reno(x),axis=1)\n",
    "homes.drop('yr_renovated',inplace=True,axis=1)"
   ]
  },
  {
   "cell_type": "code",
   "execution_count": 24,
   "metadata": {},
   "outputs": [],
   "source": [
    "homes['age'] = dt.today().year - homes['yr_built']\n",
    "homes.drop('yr_built',inplace=True,axis=1)"
   ]
  },
  {
   "cell_type": "code",
   "execution_count": 25,
   "metadata": {},
   "outputs": [],
   "source": [
    "cities = pd.get_dummies(homes.city,prefix='city',sparse=False,drop_first=True)\n",
    "homes.drop('city',inplace=True,axis=1)"
   ]
  },
  {
   "cell_type": "code",
   "execution_count": 26,
   "metadata": {},
   "outputs": [],
   "source": [
    "homes = pd.concat([homes,cities],axis=1)\n",
    "homes = sm.add_constant(homes)\n",
    "X = homes.drop('price',axis=1)\n",
    "y = homes.price\n",
    "\n",
    "X_train, X_test, y_train, y_test = train_test_split(X,y,random_state=271828)"
   ]
  },
  {
   "cell_type": "code",
   "execution_count": 27,
   "metadata": {},
   "outputs": [
    {
     "name": "stdout",
     "output_type": "stream",
     "text": [
      "0.7277558032321243\n",
      "0.7619816269525088\n"
     ]
    }
   ],
   "source": [
    "regressor = LinearRegression().fit(X_train,y_train)\n",
    "print(regressor.score(X_train,y_train))\n",
    "print(regressor.score(X_test,y_test))"
   ]
  },
  {
   "cell_type": "code",
   "execution_count": 28,
   "metadata": {},
   "outputs": [
    {
     "data": {
      "text/plain": [
       "array([0.74265208, 0.72386329, 0.72707178, 0.70938234, 0.71854113])"
      ]
     },
     "execution_count": 28,
     "metadata": {},
     "output_type": "execute_result"
    }
   ],
   "source": [
    "cv_regressor = LinearRegression()\n",
    "cross_validate(cv_regressor,X_train,y_train)['test_score']"
   ]
  },
  {
   "cell_type": "code",
   "execution_count": 29,
   "metadata": {},
   "outputs": [
    {
     "data": {
      "text/html": [
       "<table class=\"simpletable\">\n",
       "<caption>OLS Regression Results</caption>\n",
       "<tr>\n",
       "  <th>Dep. Variable:</th>          <td>price</td>      <th>  R-squared:         </th>  <td>   0.728</td>  \n",
       "</tr>\n",
       "<tr>\n",
       "  <th>Model:</th>                   <td>OLS</td>       <th>  Adj. R-squared:    </th>  <td>   0.727</td>  \n",
       "</tr>\n",
       "<tr>\n",
       "  <th>Method:</th>             <td>Least Squares</td>  <th>  F-statistic:       </th>  <td>   1271.</td>  \n",
       "</tr>\n",
       "<tr>\n",
       "  <th>Date:</th>             <td>Fri, 18 Feb 2022</td> <th>  Prob (F-statistic):</th>   <td>  0.00</td>   \n",
       "</tr>\n",
       "<tr>\n",
       "  <th>Time:</th>                 <td>16:49:48</td>     <th>  Log-Likelihood:    </th> <td>-2.2016e+05</td>\n",
       "</tr>\n",
       "<tr>\n",
       "  <th>No. Observations:</th>      <td> 16197</td>      <th>  AIC:               </th>  <td>4.404e+05</td> \n",
       "</tr>\n",
       "<tr>\n",
       "  <th>Df Residuals:</th>          <td> 16162</td>      <th>  BIC:               </th>  <td>4.407e+05</td> \n",
       "</tr>\n",
       "<tr>\n",
       "  <th>Df Model:</th>              <td>    34</td>      <th>                     </th>      <td> </td>     \n",
       "</tr>\n",
       "<tr>\n",
       "  <th>Covariance Type:</th>      <td>nonrobust</td>    <th>                     </th>      <td> </td>     \n",
       "</tr>\n",
       "</table>\n",
       "<table class=\"simpletable\">\n",
       "<tr>\n",
       "           <td></td>             <th>coef</th>     <th>std err</th>      <th>t</th>      <th>P>|t|</th>  <th>[0.025</th>    <th>0.975]</th>  \n",
       "</tr>\n",
       "<tr>\n",
       "  <th>const</th>              <td>-8.996e+05</td> <td>  1.9e+04</td> <td>  -47.445</td> <td> 0.000</td> <td>-9.37e+05</td> <td>-8.62e+05</td>\n",
       "</tr>\n",
       "<tr>\n",
       "  <th>bedrooms</th>           <td>-4.094e+04</td> <td> 2221.791</td> <td>  -18.427</td> <td> 0.000</td> <td>-4.53e+04</td> <td>-3.66e+04</td>\n",
       "</tr>\n",
       "<tr>\n",
       "  <th>bathrooms</th>          <td> 3.622e+04</td> <td> 3604.616</td> <td>   10.048</td> <td> 0.000</td> <td> 2.92e+04</td> <td> 4.33e+04</td>\n",
       "</tr>\n",
       "<tr>\n",
       "  <th>sqft_living</th>        <td>  175.8060</td> <td>    3.478</td> <td>   50.552</td> <td> 0.000</td> <td>  168.989</td> <td>  182.623</td>\n",
       "</tr>\n",
       "<tr>\n",
       "  <th>sqft_lot</th>           <td>    0.0494</td> <td>    0.039</td> <td>    1.260</td> <td> 0.208</td> <td>   -0.027</td> <td>    0.126</td>\n",
       "</tr>\n",
       "<tr>\n",
       "  <th>floors</th>             <td> 3.079e+04</td> <td> 3681.201</td> <td>    8.365</td> <td> 0.000</td> <td> 2.36e+04</td> <td>  3.8e+04</td>\n",
       "</tr>\n",
       "<tr>\n",
       "  <th>waterfront</th>         <td> 6.048e+05</td> <td> 2.02e+04</td> <td>   29.897</td> <td> 0.000</td> <td> 5.65e+05</td> <td> 6.44e+05</td>\n",
       "</tr>\n",
       "<tr>\n",
       "  <th>view</th>               <td> 4.337e+04</td> <td> 2316.014</td> <td>   18.728</td> <td> 0.000</td> <td> 3.88e+04</td> <td> 4.79e+04</td>\n",
       "</tr>\n",
       "<tr>\n",
       "  <th>condition</th>          <td> 2.313e+04</td> <td> 2631.393</td> <td>    8.790</td> <td> 0.000</td> <td>  1.8e+04</td> <td> 2.83e+04</td>\n",
       "</tr>\n",
       "<tr>\n",
       "  <th>grade</th>              <td> 9.653e+04</td> <td> 2315.659</td> <td>   41.684</td> <td> 0.000</td> <td>  9.2e+04</td> <td> 1.01e+05</td>\n",
       "</tr>\n",
       "<tr>\n",
       "  <th>since_reno</th>         <td> -617.0722</td> <td>  144.977</td> <td>   -4.256</td> <td> 0.000</td> <td> -901.244</td> <td> -332.901</td>\n",
       "</tr>\n",
       "<tr>\n",
       "  <th>age</th>                <td> 2979.8849</td> <td>  142.175</td> <td>   20.959</td> <td> 0.000</td> <td> 2701.207</td> <td> 3258.563</td>\n",
       "</tr>\n",
       "<tr>\n",
       "  <th>city_Bellevue</th>      <td> 3.477e+05</td> <td> 9719.427</td> <td>   35.772</td> <td> 0.000</td> <td> 3.29e+05</td> <td> 3.67e+05</td>\n",
       "</tr>\n",
       "<tr>\n",
       "  <th>city_Black_Diamond</th> <td> 7.877e+04</td> <td> 2.34e+04</td> <td>    3.372</td> <td> 0.001</td> <td>  3.3e+04</td> <td> 1.25e+05</td>\n",
       "</tr>\n",
       "<tr>\n",
       "  <th>city_Bothell</th>       <td> 1.118e+05</td> <td> 1.73e+04</td> <td>    6.457</td> <td> 0.000</td> <td> 7.79e+04</td> <td> 1.46e+05</td>\n",
       "</tr>\n",
       "<tr>\n",
       "  <th>city_Carnation</th>     <td> 1.057e+05</td> <td> 2.17e+04</td> <td>    4.868</td> <td> 0.000</td> <td> 6.31e+04</td> <td> 1.48e+05</td>\n",
       "</tr>\n",
       "<tr>\n",
       "  <th>city_Duvall</th>        <td> 8.943e+04</td> <td> 1.78e+04</td> <td>    5.033</td> <td> 0.000</td> <td> 5.46e+04</td> <td> 1.24e+05</td>\n",
       "</tr>\n",
       "<tr>\n",
       "  <th>city_Enumclaw</th>      <td>-1211.2094</td> <td> 1.67e+04</td> <td>   -0.072</td> <td> 0.942</td> <td> -3.4e+04</td> <td> 3.16e+04</td>\n",
       "</tr>\n",
       "<tr>\n",
       "  <th>city_Fall_City</th>     <td> 1.589e+05</td> <td> 2.71e+04</td> <td>    5.855</td> <td> 0.000</td> <td> 1.06e+05</td> <td> 2.12e+05</td>\n",
       "</tr>\n",
       "<tr>\n",
       "  <th>city_Federal_Way</th>   <td>-3.196e+04</td> <td> 1.08e+04</td> <td>   -2.947</td> <td> 0.003</td> <td>-5.32e+04</td> <td>-1.07e+04</td>\n",
       "</tr>\n",
       "<tr>\n",
       "  <th>city_Issaquah</th>      <td> 1.523e+05</td> <td> 1.13e+04</td> <td>   13.493</td> <td> 0.000</td> <td>  1.3e+05</td> <td> 1.74e+05</td>\n",
       "</tr>\n",
       "<tr>\n",
       "  <th>city_Kenmore</th>       <td> 1.146e+05</td> <td> 1.58e+04</td> <td>    7.272</td> <td> 0.000</td> <td> 8.37e+04</td> <td> 1.45e+05</td>\n",
       "</tr>\n",
       "<tr>\n",
       "  <th>city_Kent</th>          <td> 1.234e+04</td> <td> 9808.238</td> <td>    1.258</td> <td> 0.208</td> <td>-6885.950</td> <td> 3.16e+04</td>\n",
       "</tr>\n",
       "<tr>\n",
       "  <th>city_Kirkland</th>      <td> 2.556e+05</td> <td> 1.04e+04</td> <td>   24.535</td> <td> 0.000</td> <td> 2.35e+05</td> <td> 2.76e+05</td>\n",
       "</tr>\n",
       "<tr>\n",
       "  <th>city_Maple_Valley</th>  <td> 3.752e+04</td> <td> 1.19e+04</td> <td>    3.164</td> <td> 0.002</td> <td> 1.43e+04</td> <td> 6.08e+04</td>\n",
       "</tr>\n",
       "<tr>\n",
       "  <th>city_Medina</th>        <td> 1.223e+06</td> <td> 3.29e+04</td> <td>   37.112</td> <td> 0.000</td> <td> 1.16e+06</td> <td> 1.29e+06</td>\n",
       "</tr>\n",
       "<tr>\n",
       "  <th>city_Mercer_Island</th> <td> 4.479e+05</td> <td> 1.54e+04</td> <td>   29.141</td> <td> 0.000</td> <td> 4.18e+05</td> <td> 4.78e+05</td>\n",
       "</tr>\n",
       "<tr>\n",
       "  <th>city_North_Bend</th>    <td> 9.414e+04</td> <td> 1.69e+04</td> <td>    5.564</td> <td> 0.000</td> <td>  6.1e+04</td> <td> 1.27e+05</td>\n",
       "</tr>\n",
       "<tr>\n",
       "  <th>city_Redmond</th>       <td> 2.042e+05</td> <td> 1.04e+04</td> <td>   19.596</td> <td> 0.000</td> <td> 1.84e+05</td> <td> 2.25e+05</td>\n",
       "</tr>\n",
       "<tr>\n",
       "  <th>city_Renton</th>        <td> 6.651e+04</td> <td> 9291.104</td> <td>    7.159</td> <td> 0.000</td> <td> 4.83e+04</td> <td> 8.47e+04</td>\n",
       "</tr>\n",
       "<tr>\n",
       "  <th>city_Sammamish</th>     <td>  1.43e+05</td> <td> 1.11e+04</td> <td>   12.861</td> <td> 0.000</td> <td> 1.21e+05</td> <td> 1.65e+05</td>\n",
       "</tr>\n",
       "<tr>\n",
       "  <th>city_Seattle</th>       <td> 1.931e+05</td> <td> 8077.243</td> <td>   23.912</td> <td> 0.000</td> <td> 1.77e+05</td> <td> 2.09e+05</td>\n",
       "</tr>\n",
       "<tr>\n",
       "  <th>city_Snoqualmie</th>    <td> 9.607e+04</td> <td>  1.5e+04</td> <td>    6.415</td> <td> 0.000</td> <td> 6.67e+04</td> <td> 1.25e+05</td>\n",
       "</tr>\n",
       "<tr>\n",
       "  <th>city_Vashon</th>        <td>-3047.9155</td> <td>  2.2e+04</td> <td>   -0.139</td> <td> 0.890</td> <td>-4.61e+04</td> <td>    4e+04</td>\n",
       "</tr>\n",
       "<tr>\n",
       "  <th>city_Woodinville</th>   <td> 1.214e+05</td> <td>  1.3e+04</td> <td>    9.356</td> <td> 0.000</td> <td>  9.6e+04</td> <td> 1.47e+05</td>\n",
       "</tr>\n",
       "</table>\n",
       "<table class=\"simpletable\">\n",
       "<tr>\n",
       "  <th>Omnibus:</th>       <td>14326.831</td> <th>  Durbin-Watson:     </th>  <td>   2.013</td>  \n",
       "</tr>\n",
       "<tr>\n",
       "  <th>Prob(Omnibus):</th>  <td> 0.000</td>   <th>  Jarque-Bera (JB):  </th> <td>1794755.841</td>\n",
       "</tr>\n",
       "<tr>\n",
       "  <th>Skew:</th>           <td> 3.732</td>   <th>  Prob(JB):          </th>  <td>    0.00</td>  \n",
       "</tr>\n",
       "<tr>\n",
       "  <th>Kurtosis:</th>       <td>54.026</td>   <th>  Cond. No.          </th>  <td>1.18e+06</td>  \n",
       "</tr>\n",
       "</table><br/><br/>Notes:<br/>[1] Standard Errors assume that the covariance matrix of the errors is correctly specified.<br/>[2] The condition number is large, 1.18e+06. This might indicate that there are<br/>strong multicollinearity or other numerical problems."
      ],
      "text/plain": [
       "<class 'statsmodels.iolib.summary.Summary'>\n",
       "\"\"\"\n",
       "                            OLS Regression Results                            \n",
       "==============================================================================\n",
       "Dep. Variable:                  price   R-squared:                       0.728\n",
       "Model:                            OLS   Adj. R-squared:                  0.727\n",
       "Method:                 Least Squares   F-statistic:                     1271.\n",
       "Date:                Fri, 18 Feb 2022   Prob (F-statistic):               0.00\n",
       "Time:                        16:49:48   Log-Likelihood:            -2.2016e+05\n",
       "No. Observations:               16197   AIC:                         4.404e+05\n",
       "Df Residuals:                   16162   BIC:                         4.407e+05\n",
       "Df Model:                          34                                         \n",
       "Covariance Type:            nonrobust                                         \n",
       "======================================================================================\n",
       "                         coef    std err          t      P>|t|      [0.025      0.975]\n",
       "--------------------------------------------------------------------------------------\n",
       "const              -8.996e+05    1.9e+04    -47.445      0.000   -9.37e+05   -8.62e+05\n",
       "bedrooms           -4.094e+04   2221.791    -18.427      0.000   -4.53e+04   -3.66e+04\n",
       "bathrooms           3.622e+04   3604.616     10.048      0.000    2.92e+04    4.33e+04\n",
       "sqft_living          175.8060      3.478     50.552      0.000     168.989     182.623\n",
       "sqft_lot               0.0494      0.039      1.260      0.208      -0.027       0.126\n",
       "floors              3.079e+04   3681.201      8.365      0.000    2.36e+04     3.8e+04\n",
       "waterfront          6.048e+05   2.02e+04     29.897      0.000    5.65e+05    6.44e+05\n",
       "view                4.337e+04   2316.014     18.728      0.000    3.88e+04    4.79e+04\n",
       "condition           2.313e+04   2631.393      8.790      0.000     1.8e+04    2.83e+04\n",
       "grade               9.653e+04   2315.659     41.684      0.000     9.2e+04    1.01e+05\n",
       "since_reno          -617.0722    144.977     -4.256      0.000    -901.244    -332.901\n",
       "age                 2979.8849    142.175     20.959      0.000    2701.207    3258.563\n",
       "city_Bellevue       3.477e+05   9719.427     35.772      0.000    3.29e+05    3.67e+05\n",
       "city_Black_Diamond  7.877e+04   2.34e+04      3.372      0.001     3.3e+04    1.25e+05\n",
       "city_Bothell        1.118e+05   1.73e+04      6.457      0.000    7.79e+04    1.46e+05\n",
       "city_Carnation      1.057e+05   2.17e+04      4.868      0.000    6.31e+04    1.48e+05\n",
       "city_Duvall         8.943e+04   1.78e+04      5.033      0.000    5.46e+04    1.24e+05\n",
       "city_Enumclaw      -1211.2094   1.67e+04     -0.072      0.942    -3.4e+04    3.16e+04\n",
       "city_Fall_City      1.589e+05   2.71e+04      5.855      0.000    1.06e+05    2.12e+05\n",
       "city_Federal_Way   -3.196e+04   1.08e+04     -2.947      0.003   -5.32e+04   -1.07e+04\n",
       "city_Issaquah       1.523e+05   1.13e+04     13.493      0.000     1.3e+05    1.74e+05\n",
       "city_Kenmore        1.146e+05   1.58e+04      7.272      0.000    8.37e+04    1.45e+05\n",
       "city_Kent           1.234e+04   9808.238      1.258      0.208   -6885.950    3.16e+04\n",
       "city_Kirkland       2.556e+05   1.04e+04     24.535      0.000    2.35e+05    2.76e+05\n",
       "city_Maple_Valley   3.752e+04   1.19e+04      3.164      0.002    1.43e+04    6.08e+04\n",
       "city_Medina         1.223e+06   3.29e+04     37.112      0.000    1.16e+06    1.29e+06\n",
       "city_Mercer_Island  4.479e+05   1.54e+04     29.141      0.000    4.18e+05    4.78e+05\n",
       "city_North_Bend     9.414e+04   1.69e+04      5.564      0.000     6.1e+04    1.27e+05\n",
       "city_Redmond        2.042e+05   1.04e+04     19.596      0.000    1.84e+05    2.25e+05\n",
       "city_Renton         6.651e+04   9291.104      7.159      0.000    4.83e+04    8.47e+04\n",
       "city_Sammamish       1.43e+05   1.11e+04     12.861      0.000    1.21e+05    1.65e+05\n",
       "city_Seattle        1.931e+05   8077.243     23.912      0.000    1.77e+05    2.09e+05\n",
       "city_Snoqualmie     9.607e+04    1.5e+04      6.415      0.000    6.67e+04    1.25e+05\n",
       "city_Vashon        -3047.9155    2.2e+04     -0.139      0.890   -4.61e+04       4e+04\n",
       "city_Woodinville    1.214e+05    1.3e+04      9.356      0.000     9.6e+04    1.47e+05\n",
       "==============================================================================\n",
       "Omnibus:                    14326.831   Durbin-Watson:                   2.013\n",
       "Prob(Omnibus):                  0.000   Jarque-Bera (JB):          1794755.841\n",
       "Skew:                           3.732   Prob(JB):                         0.00\n",
       "Kurtosis:                      54.026   Cond. No.                     1.18e+06\n",
       "==============================================================================\n",
       "\n",
       "Notes:\n",
       "[1] Standard Errors assume that the covariance matrix of the errors is correctly specified.\n",
       "[2] The condition number is large, 1.18e+06. This might indicate that there are\n",
       "strong multicollinearity or other numerical problems.\n",
       "\"\"\""
      ]
     },
     "execution_count": 29,
     "metadata": {},
     "output_type": "execute_result"
    }
   ],
   "source": [
    "sm_regressor = sm.OLS(y_train,X_train).fit()\n",
    "sm_regressor.summary()"
   ]
  },
  {
   "cell_type": "code",
   "execution_count": 37,
   "metadata": {},
   "outputs": [
    {
     "name": "stderr",
     "output_type": "stream",
     "text": [
      "<ipython-input-37-dededbed7baf>:9: UserWarning: FixedFormatter should only be used together with FixedLocator\n",
      "  ax.set_xticklabels(ax.get_xticks()/1000000);\n",
      "<ipython-input-37-dededbed7baf>:10: UserWarning: FixedFormatter should only be used together with FixedLocator\n",
      "  ax.set_yticklabels(ax.get_yticks()/1000000);\n"
     ]
    },
    {
     "data": {
      "image/png": "[encoded data removed]",
      "text/plain": [
       "<Figure size 720x720 with 1 Axes>"
      ]
     },
     "metadata": {
      "needs_background": "light"
     },
     "output_type": "display_data"
    }
   ],
   "source": [
    "pred = regressor.predict(X_test)\n",
    "fig,ax = plt.subplots(figsize=(10,10))\n",
    "ax = sns.scatterplot(x = y_test,y = pred)\n",
    "y_x = np.linspace(0,5000000,100)\n",
    "ax.plot(y_x,y_x,color='k'); # Plots y=x\n",
    "ax.set_title('Predicted vs Actual Price');\n",
    "ax.set_ylabel('Model Predicted Value $Millions');\n",
    "ax.set_xlabel('Actual Value $Millions');\n",
    "ax.set_xticklabels(ax.get_xticks()/1000000);\n",
    "ax.set_yticklabels(ax.get_yticks()/1000000);"
   ]
  }
 ],
 "metadata": {
  "interpreter": {
   "hash": "c530da2c00e947a30bdd014ca09b87184bfcbe4ddb83919a27cc9cdbd8bd8606"
  },
  "kernelspec": {
   "display_name": "Python 3.8.5 ('learn-env')",
   "language": "python",
   "name": "python3"
  },
  "language_info": {
   "codemirror_mode": {
    "name": "ipython",
    "version": 3
   },
   "file_extension": ".py",
   "mimetype": "text/x-python",
   "name": "python",
   "nbconvert_exporter": "python",
   "pygments_lexer": "ipython3",
   "version": "3.8.5"
  },
  "orig_nbformat": 4
 },
 "nbformat": 4,
 "nbformat_minor": 2
}
